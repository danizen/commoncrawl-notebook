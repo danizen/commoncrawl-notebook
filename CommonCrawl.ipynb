{
 "cells": [
  {
   "cell_type": "markdown",
   "metadata": {},
   "source": [
    "# Accessing the common crawl indexes\n",
    "\n",
    "## Notes\n",
    "\n",
    "The common crawl is stored in s3://commoncrawl, so you can start out with aws command-line operations:"
   ]
  },
  {
   "cell_type": "code",
   "execution_count": 1,
   "metadata": {},
   "outputs": [
    {
     "name": "stdout",
     "output_type": "stream",
     "text": [
      "                           PRE cc-index/\r\n",
      "                           PRE contrib/\r\n",
      "                           PRE crawl-001/\r\n",
      "                           PRE crawl-002/\r\n",
      "                           PRE crawl-analysis/\r\n",
      "                           PRE crawl-data/\r\n",
      "                           PRE hive_analysis/\r\n",
      "                           PRE index2012/\r\n",
      "                           PRE mapred-temp/\r\n",
      "                           PRE meanpath/\r\n",
      "                           PRE parse-output-test/\r\n",
      "                           PRE parse-output/\r\n",
      "                           PRE projects/\r\n",
      "                           PRE stats-output/\r\n",
      "                           PRE wikipedia/\r\n",
      "2016-05-21 14:17:43         25 robots.txt\r\n"
     ]
    }
   ],
   "source": [
    "%%bash\n",
    "aws s3 ls s3://commoncrawl"
   ]
  },
  {
   "cell_type": "markdown",
   "metadata": {},
   "source": [
    "We can then drill down to one of these until we are at:"
   ]
  },
  {
   "cell_type": "code",
   "execution_count": 2,
   "metadata": {},
   "outputs": [
    {
     "name": "stdout",
     "output_type": "stream",
     "text": [
      "2017-11-25 14:35:56  864874660 cdx-00000.gz\r\n",
      "2017-11-25 14:32:56  825651663 cdx-00001.gz\r\n",
      "2017-11-25 14:37:17  906565380 cdx-00002.gz\r\n",
      "2017-11-25 14:35:32  880110856 cdx-00003.gz\r\n",
      "2017-11-25 14:37:10  831190551 cdx-00004.gz\r\n",
      "2017-11-25 14:36:41  875623695 cdx-00005.gz\r\n",
      "2017-11-25 14:33:34  668722507 cdx-00006.gz\r\n",
      "2017-11-25 14:37:16  908400359 cdx-00007.gz\r\n",
      "2017-11-25 14:34:57  790358317 cdx-00008.gz\r\n",
      "2017-11-25 14:35:48  769691459 cdx-00009.gz\r\n",
      "2017-11-25 14:36:17  864471407 cdx-00010.gz\r\n",
      "2017-11-25 14:33:08  897341346 cdx-00011.gz\r\n",
      "2017-11-25 14:33:38  748446905 cdx-00012.gz\r\n",
      "2017-11-25 14:38:49 1120286215 cdx-00013.gz\r\n",
      "2017-11-25 14:35:01  761875442 cdx-00014.gz\r\n",
      "2017-11-25 14:32:57  604735303 cdx-00015.gz\r\n",
      "2017-11-25 14:33:20  636916760 cdx-00016.gz\r\n",
      "2017-11-25 14:36:02  860977107 cdx-00017.gz\r\n",
      "2017-11-25 14:33:56  778215512 cdx-00018.gz\r\n",
      "2017-11-25 14:37:28 1201585040 cdx-00019.gz\r\n",
      "2017-11-25 14:34:59  899674194 cdx-00020.gz\r\n",
      "2017-11-25 14:38:45 1018483141 cdx-00021.gz\r\n",
      "2017-11-25 14:35:37  935357141 cdx-00022.gz\r\n",
      "2017-11-25 14:36:22  847842743 cdx-00023.gz\r\n",
      "2017-11-25 14:37:59 1141687438 cdx-00024.gz\r\n",
      "2017-11-25 14:37:06  922180414 cdx-00025.gz\r\n",
      "2017-11-25 14:37:31  970382748 cdx-00026.gz\r\n",
      "2017-11-25 14:38:40 1013072557 cdx-00027.gz\r\n",
      "2017-11-25 14:35:44  899126057 cdx-00028.gz\r\n",
      "2017-11-25 14:39:17 1084179936 cdx-00029.gz\r\n",
      "2017-11-25 14:37:03  963447949 cdx-00030.gz\r\n",
      "2017-11-25 14:35:15  842252397 cdx-00031.gz\r\n",
      "2017-11-25 14:39:07 1092929734 cdx-00032.gz\r\n",
      "2017-11-25 14:33:12  676663105 cdx-00033.gz\r\n",
      "2017-11-25 14:30:42  782836089 cdx-00034.gz\r\n",
      "2017-11-25 14:30:36  682415873 cdx-00035.gz\r\n",
      "2017-11-25 14:34:39  776269010 cdx-00036.gz\r\n",
      "2017-11-25 14:31:49  697639167 cdx-00037.gz\r\n",
      "2017-11-25 14:35:38  767477651 cdx-00038.gz\r\n",
      "2017-11-25 14:31:51  590053405 cdx-00039.gz\r\n",
      "2017-11-25 14:32:21  775634518 cdx-00040.gz\r\n",
      "2017-11-25 14:34:52  810797339 cdx-00041.gz\r\n",
      "2017-11-25 14:34:12  765468033 cdx-00042.gz\r\n",
      "2017-11-25 14:33:16  767712216 cdx-00043.gz\r\n",
      "2017-11-25 14:33:19  691800475 cdx-00044.gz\r\n",
      "2017-11-25 14:32:11  775551190 cdx-00045.gz\r\n",
      "2017-11-25 14:32:08  774084479 cdx-00046.gz\r\n",
      "2017-11-25 14:37:14  872127513 cdx-00047.gz\r\n",
      "2017-11-25 14:34:50  761130938 cdx-00048.gz\r\n",
      "2017-11-25 14:33:21  653269682 cdx-00049.gz\r\n",
      "2017-11-25 14:33:25  706252843 cdx-00050.gz\r\n",
      "2017-11-25 14:34:59  708212567 cdx-00051.gz\r\n",
      "2017-11-25 14:31:10  643826818 cdx-00052.gz\r\n",
      "2017-11-25 14:32:51  712093993 cdx-00053.gz\r\n",
      "2017-11-25 14:39:00 1140688403 cdx-00054.gz\r\n",
      "2017-11-25 14:37:08  934444882 cdx-00055.gz\r\n",
      "2017-11-25 14:37:05 1077255220 cdx-00056.gz\r\n",
      "2017-11-25 14:36:42  910052496 cdx-00057.gz\r\n",
      "2017-11-25 14:35:19  897369367 cdx-00058.gz\r\n",
      "2017-11-25 14:38:42 1055860536 cdx-00059.gz\r\n",
      "2017-11-25 14:38:38 1133642552 cdx-00060.gz\r\n",
      "2017-11-25 14:38:32 1022764054 cdx-00061.gz\r\n",
      "2017-11-25 14:35:44  784390219 cdx-00062.gz\r\n",
      "2017-11-25 14:37:04  968128722 cdx-00063.gz\r\n",
      "2017-11-25 14:36:46  922342110 cdx-00064.gz\r\n",
      "2017-11-25 14:38:04  993393991 cdx-00065.gz\r\n",
      "2017-11-25 14:35:56  972635837 cdx-00066.gz\r\n",
      "2017-11-25 14:36:47  964728556 cdx-00067.gz\r\n",
      "2017-11-25 14:37:51  986233967 cdx-00068.gz\r\n",
      "2017-11-25 14:36:05  862463204 cdx-00069.gz\r\n",
      "2017-11-25 14:33:12  815108073 cdx-00070.gz\r\n",
      "2017-11-25 14:38:00  910057642 cdx-00071.gz\r\n",
      "2017-11-25 14:40:25 1181445150 cdx-00072.gz\r\n",
      "2017-11-25 14:36:59  901050090 cdx-00073.gz\r\n",
      "2017-11-25 14:36:12  886336248 cdx-00074.gz\r\n",
      "2017-11-25 14:35:38  763081466 cdx-00075.gz\r\n",
      "2017-11-25 14:37:07  949761780 cdx-00076.gz\r\n",
      "2017-11-25 14:36:26  909092417 cdx-00077.gz\r\n",
      "2017-11-25 14:33:36  670421675 cdx-00078.gz\r\n",
      "2017-11-25 14:33:47  658723221 cdx-00079.gz\r\n",
      "2017-11-25 14:34:07  736338144 cdx-00080.gz\r\n",
      "2017-11-25 14:35:02  831723830 cdx-00081.gz\r\n",
      "2017-11-25 14:35:08  959625402 cdx-00082.gz\r\n",
      "2017-11-25 14:37:11  839101251 cdx-00083.gz\r\n",
      "2017-11-25 14:38:04 1057455812 cdx-00084.gz\r\n",
      "2017-11-25 14:35:37  857372048 cdx-00085.gz\r\n",
      "2017-11-25 14:37:29  898442320 cdx-00086.gz\r\n",
      "2017-11-25 14:38:45 1153498234 cdx-00087.gz\r\n",
      "2017-11-25 14:39:10 1149417146 cdx-00088.gz\r\n",
      "2017-11-25 14:35:29 1001824655 cdx-00089.gz\r\n",
      "2017-11-25 14:37:13  880032661 cdx-00090.gz\r\n",
      "2017-11-25 14:38:01  982153336 cdx-00091.gz\r\n",
      "2017-11-25 14:37:35 1082230506 cdx-00092.gz\r\n",
      "2017-11-25 14:40:00 1133635387 cdx-00093.gz\r\n",
      "2017-11-25 14:39:27 1122085849 cdx-00094.gz\r\n",
      "2017-11-25 14:38:05  995107823 cdx-00095.gz\r\n",
      "2017-11-25 14:36:53  890486146 cdx-00096.gz\r\n",
      "2017-11-25 14:34:44  805295423 cdx-00097.gz\r\n",
      "2017-11-25 14:37:04  901659351 cdx-00098.gz\r\n",
      "2017-11-25 14:36:14  902862972 cdx-00099.gz\r\n",
      "2017-11-25 14:37:36  922054979 cdx-00100.gz\r\n",
      "2017-11-25 14:39:35 1023953762 cdx-00101.gz\r\n",
      "2017-11-25 14:37:15  803486485 cdx-00102.gz\r\n",
      "2017-11-25 14:38:38  932448266 cdx-00103.gz\r\n",
      "2017-11-25 14:36:34  987301643 cdx-00104.gz\r\n",
      "2017-11-25 14:39:40 1075754985 cdx-00105.gz\r\n",
      "2017-11-25 14:35:59  704566370 cdx-00106.gz\r\n",
      "2017-11-25 14:38:09  951560857 cdx-00107.gz\r\n",
      "2017-11-25 14:38:48 1045760107 cdx-00108.gz\r\n",
      "2017-11-25 14:38:46  912514865 cdx-00109.gz\r\n",
      "2017-11-25 14:38:06  896803258 cdx-00110.gz\r\n",
      "2017-11-25 14:38:56  855879311 cdx-00111.gz\r\n",
      "2017-11-25 14:41:19 1067809652 cdx-00112.gz\r\n",
      "2017-11-25 14:36:10  695068828 cdx-00113.gz\r\n",
      "2017-11-25 14:37:41  768196539 cdx-00114.gz\r\n",
      "2017-11-25 14:38:34  901497641 cdx-00115.gz\r\n",
      "2017-11-25 14:39:03  940871382 cdx-00116.gz\r\n",
      "2017-11-25 14:37:14  867220376 cdx-00117.gz\r\n",
      "2017-11-25 14:39:15  894803676 cdx-00118.gz\r\n",
      "2017-11-25 14:38:24  908356523 cdx-00119.gz\r\n",
      "2017-11-25 14:37:16  812310853 cdx-00120.gz\r\n",
      "2017-11-25 14:41:42 1169436460 cdx-00121.gz\r\n",
      "2017-11-25 14:41:03 1122446252 cdx-00122.gz\r\n",
      "2017-11-25 14:42:47 1061174182 cdx-00123.gz\r\n",
      "2017-11-25 14:36:47  732481401 cdx-00124.gz\r\n",
      "2017-11-25 14:38:17  765587058 cdx-00125.gz\r\n",
      "2017-11-25 14:47:16 1325513910 cdx-00126.gz\r\n",
      "2017-11-25 14:44:37 1136688970 cdx-00127.gz\r\n",
      "2017-11-25 14:42:29  978833638 cdx-00128.gz\r\n",
      "2017-11-25 14:41:08  895863828 cdx-00129.gz\r\n",
      "2017-11-25 14:39:11  964936878 cdx-00130.gz\r\n",
      "2017-11-25 14:42:40  987306601 cdx-00131.gz\r\n",
      "2017-11-25 14:39:04  856156843 cdx-00132.gz\r\n",
      "2017-11-25 14:42:16  974992930 cdx-00133.gz\r\n",
      "2017-11-25 14:39:46  824059465 cdx-00134.gz\r\n",
      "2017-11-25 14:38:36  968635739 cdx-00135.gz\r\n",
      "2017-11-25 14:42:15 1025064757 cdx-00136.gz\r\n",
      "2017-11-25 14:43:32  979341686 cdx-00137.gz\r\n",
      "2017-11-25 14:39:01  869969063 cdx-00138.gz\r\n",
      "2017-11-25 14:38:43  945221163 cdx-00139.gz\r\n",
      "2017-11-25 14:44:01 1104957983 cdx-00140.gz\r\n",
      "2017-11-25 14:42:02  901111860 cdx-00141.gz\r\n",
      "2017-11-25 14:40:16  869486522 cdx-00142.gz\r\n",
      "2017-11-25 14:40:24 1031055736 cdx-00143.gz\r\n",
      "2017-11-25 14:40:18  755337350 cdx-00144.gz\r\n",
      "2017-11-25 14:38:31  816223802 cdx-00145.gz\r\n",
      "2017-11-25 14:47:36 1250330188 cdx-00146.gz\r\n",
      "2017-11-25 14:44:07 1136251563 cdx-00147.gz\r\n",
      "2017-11-25 14:39:00  724585962 cdx-00148.gz\r\n",
      "2017-11-25 14:41:47  995578553 cdx-00149.gz\r\n",
      "2017-11-25 14:41:30  842091462 cdx-00150.gz\r\n",
      "2017-11-25 14:45:27 1052560646 cdx-00151.gz\r\n",
      "2017-11-25 14:45:40 1067127059 cdx-00152.gz\r\n",
      "2017-11-25 14:42:52  895285613 cdx-00153.gz\r\n",
      "2017-11-25 14:45:51 1095063064 cdx-00154.gz\r\n",
      "2017-11-25 14:40:16 1034667867 cdx-00155.gz\r\n",
      "2017-11-25 14:42:36  957055557 cdx-00156.gz\r\n",
      "2017-11-25 14:42:22  954295574 cdx-00157.gz\r\n",
      "2017-11-25 14:43:13  929097590 cdx-00158.gz\r\n",
      "2017-11-25 14:44:01  974819116 cdx-00159.gz\r\n",
      "2017-11-25 14:40:32  893494528 cdx-00160.gz\r\n",
      "2017-11-25 14:42:03  934765741 cdx-00161.gz\r\n",
      "2017-11-25 14:42:18  952586094 cdx-00162.gz\r\n",
      "2017-11-25 14:43:51 1171627789 cdx-00163.gz\r\n",
      "2017-11-25 14:43:13  937442087 cdx-00164.gz\r\n",
      "2017-11-25 14:45:20 1009665046 cdx-00165.gz\r\n",
      "2017-11-25 14:43:17  955286887 cdx-00166.gz\r\n",
      "2017-11-25 14:40:36 1002063735 cdx-00167.gz\r\n",
      "2017-11-25 14:39:05  946494312 cdx-00168.gz\r\n",
      "2017-11-25 14:39:02  770825252 cdx-00169.gz\r\n",
      "2017-11-25 14:40:42  853895266 cdx-00170.gz\r\n",
      "2017-11-25 14:43:40 1021182544 cdx-00171.gz\r\n",
      "2017-11-25 14:41:25  916562940 cdx-00172.gz\r\n",
      "2017-11-25 14:40:38  752865941 cdx-00173.gz\r\n",
      "2017-11-25 14:43:50  937520381 cdx-00174.gz\r\n",
      "2017-11-25 14:45:36 1157700483 cdx-00175.gz\r\n",
      "2017-11-25 14:43:21  878092783 cdx-00176.gz\r\n",
      "2017-11-25 14:41:46 1142568530 cdx-00177.gz\r\n",
      "2017-11-25 14:41:03  849021276 cdx-00178.gz\r\n",
      "2017-11-25 14:42:30  935179657 cdx-00179.gz\r\n",
      "2017-11-25 14:40:45  820649409 cdx-00180.gz\r\n",
      "2017-11-25 14:44:22  961371226 cdx-00181.gz\r\n",
      "2017-11-25 14:39:38  915903242 cdx-00182.gz\r\n",
      "2017-11-25 14:45:31 1050396113 cdx-00183.gz\r\n",
      "2017-11-25 14:44:05  858091589 cdx-00184.gz\r\n",
      "2017-11-25 14:45:12  963059504 cdx-00185.gz\r\n",
      "2017-11-25 14:44:49  975351746 cdx-00186.gz\r\n",
      "2017-11-25 14:44:42  902292525 cdx-00187.gz\r\n",
      "2017-11-25 14:43:55  993082510 cdx-00188.gz\r\n",
      "2017-11-25 14:43:03  874972140 cdx-00189.gz\r\n",
      "2017-11-25 14:38:04  792782433 cdx-00190.gz\r\n",
      "2017-11-25 14:45:00  981415654 cdx-00191.gz\r\n",
      "2017-11-25 14:44:11  828185027 cdx-00192.gz\r\n",
      "2017-11-25 14:44:47  862551648 cdx-00193.gz\r\n",
      "2017-11-25 14:42:25  816323386 cdx-00194.gz\r\n",
      "2017-11-25 14:42:53  783251777 cdx-00195.gz\r\n",
      "2017-11-25 14:42:44  863568195 cdx-00196.gz\r\n",
      "2017-11-25 14:43:33  800229039 cdx-00197.gz\r\n",
      "2017-11-25 14:44:01  868779543 cdx-00198.gz\r\n",
      "2017-11-25 14:43:53  960005381 cdx-00199.gz\r\n",
      "2017-11-25 14:44:57 1037802138 cdx-00200.gz\r\n",
      "2017-11-25 14:43:49  808506830 cdx-00201.gz\r\n",
      "2017-11-25 14:44:41  907106111 cdx-00202.gz\r\n",
      "2017-11-25 14:42:56  755626563 cdx-00203.gz\r\n",
      "2017-11-25 14:46:33 1065520854 cdx-00204.gz\r\n",
      "2017-11-25 14:45:49  951041476 cdx-00205.gz\r\n",
      "2017-11-25 14:42:57  793964526 cdx-00206.gz\r\n",
      "2017-11-25 14:41:56  831025787 cdx-00207.gz\r\n",
      "2017-11-25 14:42:44  929174418 cdx-00208.gz\r\n",
      "2017-11-25 14:39:04  824807192 cdx-00209.gz\r\n",
      "2017-11-25 14:44:57  882143575 cdx-00210.gz\r\n",
      "2017-11-25 14:47:46  973621235 cdx-00211.gz\r\n",
      "2017-11-25 14:45:19 1089803267 cdx-00212.gz\r\n",
      "2017-11-25 14:46:06  927304964 cdx-00213.gz\r\n",
      "2017-11-25 14:43:47  813414410 cdx-00214.gz\r\n",
      "2017-11-25 14:44:55  808969444 cdx-00215.gz\r\n",
      "2017-11-25 14:38:02  707622746 cdx-00216.gz\r\n",
      "2017-11-25 14:45:20  879152325 cdx-00217.gz\r\n",
      "2017-11-25 14:41:05  690313063 cdx-00218.gz\r\n",
      "2017-11-25 14:45:04  821140632 cdx-00219.gz\r\n",
      "2017-11-25 14:43:10  670708924 cdx-00220.gz\r\n",
      "2017-11-25 14:42:05  691246771 cdx-00221.gz\r\n",
      "2017-11-25 14:44:08  894755399 cdx-00222.gz\r\n",
      "2017-11-25 14:44:26  916286584 cdx-00223.gz\r\n",
      "2017-11-25 14:45:40 1056080437 cdx-00224.gz\r\n",
      "2017-11-25 14:49:36 1188644578 cdx-00225.gz\r\n",
      "2017-11-25 14:44:12  869138576 cdx-00226.gz\r\n",
      "2017-11-25 14:45:17  880231946 cdx-00227.gz\r\n",
      "2017-11-25 14:46:37  941479945 cdx-00228.gz\r\n",
      "2017-11-25 14:41:02  595172572 cdx-00229.gz\r\n",
      "2017-11-25 14:42:40  962056303 cdx-00230.gz\r\n",
      "2017-11-25 14:43:00  687726483 cdx-00231.gz\r\n",
      "2017-11-25 14:41:56  797396223 cdx-00232.gz\r\n",
      "2017-11-25 14:46:10  894855402 cdx-00233.gz\r\n",
      "2017-11-25 14:49:26 1189284319 cdx-00234.gz\r\n",
      "2017-11-25 14:44:49  938654516 cdx-00235.gz\r\n",
      "2017-11-25 14:45:46  859840866 cdx-00236.gz\r\n",
      "2017-11-25 14:43:12  771128203 cdx-00237.gz\r\n",
      "2017-11-25 14:46:21  914059193 cdx-00238.gz\r\n",
      "2017-11-25 14:43:59  792137548 cdx-00239.gz\r\n",
      "2017-11-25 14:47:01  939299708 cdx-00240.gz\r\n",
      "2017-11-25 14:48:00 1091304501 cdx-00241.gz\r\n",
      "2017-11-25 14:47:54 1081331050 cdx-00242.gz\r\n",
      "2017-11-25 14:46:05  842670096 cdx-00243.gz\r\n",
      "2017-11-25 14:46:30  927571374 cdx-00244.gz\r\n",
      "2017-11-25 14:49:19 1051960803 cdx-00245.gz\r\n",
      "2017-11-25 14:44:13  849152216 cdx-00246.gz\r\n",
      "2017-11-25 14:45:02  781041451 cdx-00247.gz\r\n",
      "2017-11-25 14:44:12  701685189 cdx-00248.gz\r\n",
      "2017-11-25 14:44:09  858129635 cdx-00249.gz\r\n",
      "2017-11-25 14:47:01 1073018757 cdx-00250.gz\r\n",
      "2017-11-25 14:47:42 1063590684 cdx-00251.gz\r\n",
      "2017-11-25 14:44:08  815225337 cdx-00252.gz\r\n",
      "2017-11-25 14:44:09  837326304 cdx-00253.gz\r\n",
      "2017-11-25 14:46:36  951089548 cdx-00254.gz\r\n",
      "2017-11-25 14:44:57  865618294 cdx-00255.gz\r\n",
      "2017-11-25 14:42:12  885097469 cdx-00256.gz\r\n",
      "2017-11-25 14:44:45  857273079 cdx-00257.gz\r\n",
      "2017-11-25 14:44:43  920588880 cdx-00258.gz\r\n",
      "2017-11-25 14:43:55  766616743 cdx-00259.gz\r\n",
      "2017-11-25 14:44:13  725573394 cdx-00260.gz\r\n",
      "2017-11-25 14:43:59  762931788 cdx-00261.gz\r\n",
      "2017-11-25 14:41:10  726441237 cdx-00262.gz\r\n",
      "2017-11-25 14:43:52  819740327 cdx-00263.gz\r\n",
      "2017-11-25 14:44:51  956895139 cdx-00264.gz\r\n",
      "2017-11-25 14:46:44  876490078 cdx-00265.gz\r\n",
      "2017-11-25 14:43:29  689968099 cdx-00266.gz\r\n",
      "2017-11-25 14:42:37  771333266 cdx-00267.gz\r\n",
      "2017-11-25 14:44:36  777675217 cdx-00268.gz\r\n",
      "2017-11-25 14:47:04  863278753 cdx-00269.gz\r\n",
      "2017-11-25 14:45:13  849096835 cdx-00270.gz\r\n",
      "2017-11-25 14:45:30  739766079 cdx-00271.gz\r\n",
      "2017-11-25 14:45:58  978113081 cdx-00272.gz\r\n",
      "2017-11-25 14:45:50  769658677 cdx-00273.gz\r\n",
      "2017-11-25 14:45:21  750142399 cdx-00274.gz\r\n",
      "2017-11-25 14:39:18  560810389 cdx-00275.gz\r\n",
      "2017-11-25 14:44:40  793224630 cdx-00276.gz\r\n",
      "2017-11-25 14:43:00  612389824 cdx-00277.gz\r\n",
      "2017-11-25 14:44:37  709459420 cdx-00278.gz\r\n",
      "2017-11-25 14:47:37  924046646 cdx-00279.gz\r\n",
      "2017-11-25 14:45:12  741130754 cdx-00280.gz\r\n",
      "2017-11-25 14:45:12  976575899 cdx-00281.gz\r\n",
      "2017-11-25 14:43:31  856411040 cdx-00282.gz\r\n",
      "2017-11-25 14:45:44  896117519 cdx-00283.gz\r\n",
      "2017-11-25 14:48:33  963222457 cdx-00284.gz\r\n",
      "2017-11-25 14:46:02  964064930 cdx-00285.gz\r\n",
      "2017-11-25 14:44:44  830372466 cdx-00286.gz\r\n",
      "2017-11-25 14:47:41  890503991 cdx-00287.gz\r\n",
      "2017-11-25 14:43:59  801408760 cdx-00288.gz\r\n",
      "2017-11-25 14:47:20  930408436 cdx-00289.gz\r\n",
      "2017-11-25 14:46:10  911742548 cdx-00290.gz\r\n",
      "2017-11-25 14:46:06  796342121 cdx-00291.gz\r\n",
      "2017-11-25 14:47:06  990395782 cdx-00292.gz\r\n",
      "2017-11-25 14:48:21  953785125 cdx-00293.gz\r\n",
      "2017-11-25 14:45:20  819790234 cdx-00294.gz\r\n",
      "2017-11-25 14:47:09  916804014 cdx-00295.gz\r\n",
      "2017-11-25 14:44:12  714591181 cdx-00296.gz\r\n",
      "2017-11-25 14:49:17 1093966376 cdx-00297.gz\r\n",
      "2017-11-25 14:48:41  969388229 cdx-00298.gz\r\n",
      "2017-11-25 14:44:32  779895522 cdx-00299.gz\r\n",
      "2017-11-25 14:53:20  162188038 cluster.idx\r\n"
     ]
    }
   ],
   "source": [
    "%%bash\n",
    "aws s3 ls s3://commoncrawl/cc-index/collections/CC-MAIN-2017-47/indexes/"
   ]
  },
  {
   "cell_type": "markdown",
   "metadata": {},
   "source": [
    "Now, we can visit each of these files, in an EMR fashion, with how many executors we have, and process each line of the gzip.  A single line has the following format:"
   ]
  },
  {
   "cell_type": "markdown",
   "metadata": {},
   "source": [
    " `reversed-split-url` \")\" `path` `datetime` `jsonobject`\n"
   ]
  },
  {
   "cell_type": "markdown",
   "metadata": {},
   "source": [
    "This JSON object has the following fields:\n",
    "\n",
    "* url - the URL\n",
    "* mime - the Content-Type\n",
    "* status - The HTTP status code\n",
    "* digest - A Digest - we need more on how this is calculated\n",
    "* length - Length in bytes\n",
    "* offset - a Byte offset into the WARC file\n",
    "* filename - The relative-path within the data where the WARC data will be found\n",
    "\n",
    "So, this means that if we can determine what we are interested in using only the URL, we can then filter the amount of WARC we need to process."
   ]
  },
  {
   "cell_type": "markdown",
   "metadata": {},
   "source": [
    "### Processing Steps\n",
    "\n",
    "1. Map the CDX files you want to process out to AWS Batch\n",
    "2. In the Batch, process the URLs matching the pattern you are interested in and store the results into DynamoDB - you need not store all fields, but you should partition by the WARC filename and sort by the offset.\n",
    "3. In another batch step, process each WARC file once, in offset order, and pull out the data to index from the WARC.\n",
    "\n",
    "   * Build a new WARC file, storing only the data you actually are reading, and update DynamoDB with the new offset.\n",
    "   * Do indexing of the WARC data - this can be a separate traversal."
   ]
  },
  {
   "cell_type": "markdown",
   "metadata": {},
   "source": [
    "### Scope of Data\n",
    "\n",
    "This is still BigData:\n",
    " * There are 301 index files in s3://commoncrawl/cc-index/collections/CC-MAIN-2017-47/indexes/\n",
    " * One of these holds about 37 million urls.\n",
    " * There are therefore about 1 billion urls in totem."
   ]
  },
  {
   "cell_type": "code",
   "execution_count": 4,
   "metadata": {},
   "outputs": [
    {
     "data": {
      "text/plain": [
       "1128847524"
      ]
     },
     "execution_count": 4,
     "metadata": {},
     "output_type": "execute_result"
    }
   ],
   "source": [
    "toturls = 301 * 3750324      # Number_of_index_files * Number_of_lines_in_cdx-00035.gz\n",
    "toturls"
   ]
  },
  {
   "cell_type": "markdown",
   "metadata": {},
   "source": [
    "### External filtering technique\n",
    "\n",
    "We can also use a new [index of the common crawl](http://index.commoncrawl.org/) to query for all pages ending in {{nih.gov}}, for example:\n",
    "\n",
    "http://index.commoncrawl.org/CC-MAIN-2017-47-index?url=*.nih.gov&output=json&showNumPages=true"
   ]
  },
  {
   "cell_type": "code",
   "execution_count": 5,
   "metadata": {},
   "outputs": [
    {
     "data": {
      "text/plain": [
       "{'blocks': 341, 'pageSize': 5, 'pages': 69}"
      ]
     },
     "execution_count": 5,
     "metadata": {},
     "output_type": "execute_result"
    }
   ],
   "source": [
    "import requests\n",
    "\n",
    "r = requests.get('http://index.commoncrawl.org/CC-MAIN-2017-47-index',\n",
    "             params={\n",
    "                 'url': '*.nih.gov',\n",
    "                 'output': 'json',\n",
    "                 'pageSize': 5,\n",
    "                 'showNumPages': True})\n",
    "r.json()\n"
   ]
  },
  {
   "cell_type": "markdown",
   "metadata": {},
   "source": [
    "Now, we can page through those results page by page:"
   ]
  },
  {
   "cell_type": "code",
   "execution_count": 6,
   "metadata": {},
   "outputs": [
    {
     "data": {
      "text/plain": [
       "<Response [200]>"
      ]
     },
     "execution_count": 6,
     "metadata": {},
     "output_type": "execute_result"
    }
   ],
   "source": [
    "import requests\n",
    "r = requests.get('http://index.commoncrawl.org/CC-MAIN-2017-47-index',\n",
    "                params={\n",
    "                    'url': '*.nih.gov',\n",
    "                    'output': 'json',\n",
    "                    'pageSize': 5,\n",
    "                    'page': 0\n",
    "                })\n",
    "r"
   ]
  },
  {
   "cell_type": "markdown",
   "metadata": {},
   "source": [
    "Note that a \"block\" as returned by this is not a line.   If we count the lines in those first 3 pages:"
   ]
  },
  {
   "cell_type": "code",
   "execution_count": 7,
   "metadata": {},
   "outputs": [
    {
     "data": {
      "text/plain": [
       "13685"
      ]
     },
     "execution_count": 7,
     "metadata": {},
     "output_type": "execute_result"
    }
   ],
   "source": [
    "len(r.content.decode('utf-8').split('\\n'))"
   ]
  },
  {
   "cell_type": "markdown",
   "metadata": {},
   "source": [
    "So, that's way more than 5 urls.  Quick estimate:"
   ]
  },
  {
   "cell_type": "code",
   "execution_count": 8,
   "metadata": {},
   "outputs": [
    {
     "data": {
      "text/plain": [
       "944265"
      ]
     },
     "execution_count": 8,
     "metadata": {},
     "output_type": "execute_result"
    }
   ],
   "source": [
    "tot_nih_urls = 69 * 13685\n",
    "tot_nih_urls"
   ]
  },
  {
   "cell_type": "markdown",
   "metadata": {},
   "source": [
    "Now, we can now farm out using the dynamic query.\n",
    "\n",
    "1. Do a query for the number of pages.\n",
    "2. Produce that range as a map operation, e.g. `range(0,69)` using numbers above\n",
    "3. mapper can retrieve data for each mapper and proceed to index just that by WARC into DynamoDB\n",
    "4. next step can query DynamoDB by WARC file, and take apart the WARC file"
   ]
  },
  {
   "cell_type": "code",
   "execution_count": 9,
   "metadata": {},
   "outputs": [
    {
     "data": {
      "text/plain": [
       "{'digest': 'EY6RM7AWLMSJR77DD35456OSZPRNQIZK',\n",
       " 'filename': 'crawl-data/CC-MAIN-2017-47/segments/1510934805049.34/robotstxt/CC-MAIN-20171118210145-20171118230145-00597.warc.gz',\n",
       " 'length': '639',\n",
       " 'mime': 'text/html',\n",
       " 'mime-detected': 'text/html',\n",
       " 'offset': '1184043',\n",
       " 'status': '301',\n",
       " 'timestamp': '20171118214035',\n",
       " 'url': 'http://www.cit.nih.gov/robots.txt',\n",
       " 'urlkey': 'gov,nih,cit)/robots.txt'}"
      ]
     },
     "execution_count": 9,
     "metadata": {},
     "output_type": "execute_result"
    }
   ],
   "source": [
    "import json\n",
    "page = json.loads(r.content.decode('utf-8').split('\\n')[13683])\n",
    "page"
   ]
  },
  {
   "cell_type": "markdown",
   "metadata": {},
   "source": [
    "We can use the Range header operator when retrieving this data to avoid retrieving all of it.  We'll be using the boto3 library here to get it."
   ]
  },
  {
   "cell_type": "code",
   "execution_count": 10,
   "metadata": {},
   "outputs": [],
   "source": [
    "import boto3\n",
    "client = boto3.client('s3')"
   ]
  },
  {
   "cell_type": "code",
   "execution_count": 28,
   "metadata": {},
   "outputs": [
    {
     "data": {
      "text/plain": [
       "(1184043, 1184681)"
      ]
     },
     "execution_count": 28,
     "metadata": {},
     "output_type": "execute_result"
    }
   ],
   "source": [
    "offset = int(page['offset'])\n",
    "end_offset = offset + int(page['length']) - 1\n",
    "offset, end_offset"
   ]
  },
  {
   "cell_type": "code",
   "execution_count": 29,
   "metadata": {},
   "outputs": [
    {
     "data": {
      "text/plain": [
       "{'AcceptRanges': 'bytes',\n",
       " 'Body': <botocore.response.StreamingBody at 0x7351400>,\n",
       " 'ContentLength': 639,\n",
       " 'ContentRange': 'bytes 1184043-1184681/1972251',\n",
       " 'ContentType': 'application/octet-stream',\n",
       " 'ETag': '\"42fdb0aa528931b6ce96c7a8c403579f\"',\n",
       " 'LastModified': datetime.datetime(2017, 11, 19, 0, 7, 30, tzinfo=tzutc()),\n",
       " 'Metadata': {},\n",
       " 'ResponseMetadata': {'HTTPHeaders': {'accept-ranges': 'bytes',\n",
       "   'content-length': '639',\n",
       "   'content-range': 'bytes 1184043-1184681/1972251',\n",
       "   'content-type': 'application/octet-stream',\n",
       "   'date': 'Mon, 04 Dec 2017 23:05:16 GMT',\n",
       "   'etag': '\"42fdb0aa528931b6ce96c7a8c403579f\"',\n",
       "   'last-modified': 'Sun, 19 Nov 2017 00:07:30 GMT',\n",
       "   'server': 'AmazonS3',\n",
       "   'x-amz-id-2': '5WKf2SC8P6iFVCdoK9Zke9TH6Ta/H8kVDEybxV+ldPzqWtCFzIH7Joe9vB9t1op7DBG6zkxUK8Y=',\n",
       "   'x-amz-request-id': '8395F6CACD28D0E1'},\n",
       "  'HTTPStatusCode': 206,\n",
       "  'HostId': '5WKf2SC8P6iFVCdoK9Zke9TH6Ta/H8kVDEybxV+ldPzqWtCFzIH7Joe9vB9t1op7DBG6zkxUK8Y=',\n",
       "  'RequestId': '8395F6CACD28D0E1',\n",
       "  'RetryAttempts': 0}}"
      ]
     },
     "execution_count": 29,
     "metadata": {},
     "output_type": "execute_result"
    }
   ],
   "source": [
    "obj = client.get_object(Bucket='commoncrawl', Key=page['filename'], Range='bytes={}-{}'.format(offset, end_offset))\n",
    "obj"
   ]
  },
  {
   "cell_type": "code",
   "execution_count": 30,
   "metadata": {},
   "outputs": [
    {
     "data": {
      "text/plain": [
       "b'\\x1f\\x8b\\x08\\x00\\x00\\x00\\x00\\x00\\x00\\x00\\x85R\\xcbr\\x9b0\\x14\\xdd3\\xe3\\x7fP\\xbd\\xae\\x00\\xf1\\x86\\x10f\\x88q\\x13\\xbb\\xb6\\xe3`2n\\xbd\\x13\\x920Lm\\xc4\\x80\\xec\\xc4\\x7f_\\xf9\\x95\\xb6if\\xb2\\x93\\xce}\\x9d{\\xeeY\\xc6\\xe9@C\\xaa\\xdeS\\x96\\xf2\\x05\\xb3C\\xc3\\x02\\xd0\\xb2\\xae\\xe1u\\xc7.`\\x82\\x85\\x04\\r\\x1d\\xb9\\x10!\\x88\\xbc\\xcc@\\x81\\xa5\\x07\\xa6\\xbd\\xba$\\xa4\\x8c\\xf0\\x96\\xc2Q\\x12\\x80p\\xd7\\xd6\\xc1nW\\xd1\\xc0\\xb2|\\xea[\\x04C\\xdbC\\x05\\xb4,J\\xa0\\x8fM\\x17\\x12\\x87z\\xbeg\\xfb\\xb6\\x8b\\x9c\\xa8\\xa7\\x0cx-X-\\xe0\\x84\\xd5kQ\\x06\\xc0r\\xf4?\\xe0\\x99\\x0en\\x9aME\\xb0\\xa8x\\xad\\x95B47`\\xdb\\xad\\x85\\x0c\\xdd\\xbe#\\xba\\xc4-\\xa9\\xea\\x82\\xbfcB\\x88\\x933\\xdf\\xf2\\xa0Q\\xd8:\\xb4\\x9c\\xdc\\x87y\\xe1 h\\x12\\x8aL\\xdbD\\xbe\\x8fHti!\\'\\x93]\\xdb\\x9e\\x86\\xf3\\xbf\\x9b\\xd0\\xdc\\xb4p\\xc1\\xe4\\xfe\\x8e\\xeeB\\xcbu\\x0b\\xe8a\\'\\x87\\x9e\\x81\\xfd\\xdc(P\\xe1\\xe9\\xee\\xb5\\xc9h\\x0ecJ%\\xb9.\\x00\\xb6\\xa5z\\xbej\\xba\\xaam_5\\xc6\\xed\\x9a\\t\\xf8\\x9c\\x8e\\x02p\\\\\\'\\xd0\\xb4\\x97\\x97\\x17\\x95TB\\xad\\xabR]\\xf3\\xbd\\xd6\\xf2\\x9c\\x8bN\\x15\\xaf\\xe2R3\\xc7\\x87\\r\\xc7\\x14&\\xd5\\x9au\"\\x00]\\x89Q0\\xfc\\xe9\\xa4S7^N\\xa6\\x8bq\\xea\\xbaIb\\xda\\x96\\xed<.V\\xf3t\\xf64Z}\\xbf\\xd4\\xdem8\\xf9\\xf5oejN\\xe3U\\xfcx\\x7f?I\\xad\\xd9r\\x96MW\\xe3\\xfb,\\x8e\\xcd\\x1f\\xe3\\xe7\\x87\\xa7\\xa7\\xbb\\xf1u\\x0f*u\\xa8\\x8a\\x8a\\xd17\\x02\\xe7\\x8b\\x08\\xf6*\\xe4)\\xb6\\x9b\\x9e\\xd2S\\x1e\\xb2l.-\\x84\\x80\\xa9#0\\xe5{F\\xc1\\x9c\\xb5[\\\\\\xcb\\xe2\\xcd\\xa1\\xa7\\x9c\\xed\\xb3\\xc0\\xe2+@\\x1e\\x98\\xf1\\xfd\\xc9J\\xe0j\"p?\\xcd\\xde_\\xfc\\xad\\xff\\r %n;&n\\xab\\x8eCO\\xda\\x06\\xa2\\xff=cX\\xc6\\t\\xac\\x199\\x9a$\\x00d\\xc3\\x8f\\xa6X\\xb0v\\xcf\\xda\\x00\\xc4\\r&\\xa5\\xfcO\\xf8\\xd9Eg\\xdd\\xbbO\\x84\\xef)\\xe1\\x97\\xe4q\\x90\\xfd\\x9c\\x0f\\xc1C6\\x9d\\x80\\xf9\\xf3\\xddd4\\x00}\\xa8i\\xa3a\\xf6M\\xd3\\x92,9G\\x0cU\\xd7\\xb4\\xe1\\xac\\x1f)\\xe1\\x91u\\x14\\x96\\x0cS\\xf9\\x11\\x95\\xd8\\xb0\\xe8C]B\\xed\\x1cTB\\xed\\x94\\x1c\\xe6\\x9c\\x1e\\x8e\\xf5(\\xfa W\\xa2J\\xd8DY\\xc9\\x00\\xe5d\\xb7\\x950(q\\x07\\xb6\\xa7\\xd4\\x10\\x83\\xb2e\\xc5m\\xff\\xf3\\xb5\\xfaQ\\xc9Z\\x16j8RC\\xad9N?\\xcd\\rOjG\\xcaq\\xeb\\xdfMgU\\xf1\\x13\\x04\\x00\\x00'"
      ]
     },
     "execution_count": 30,
     "metadata": {},
     "output_type": "execute_result"
    }
   ],
   "source": [
    "compressed_data = obj['Body'].read()\n",
    "compressed_data"
   ]
  },
  {
   "cell_type": "code",
   "execution_count": 38,
   "metadata": {},
   "outputs": [
    {
     "data": {
      "text/plain": [
       "'WARC/1.0\\r\\nWARC-Type: response\\r\\nWARC-Date: 2017-11-18T21:40:35Z\\r\\nWARC-Record-ID: <urn:uuid:449d94ca-581f-44dc-9a37-c6d898595716>\\r\\nContent-Length: 460\\r\\nContent-Type: application/http; msgtype=response\\r\\nWARC-Warcinfo-ID: <urn:uuid:cc6be948-2f50-46b9-bf61-3cd13531991c>\\r\\nWARC-Concurrent-To: <urn:uuid:db34afe1-1607-477f-8a6b-82a9b2f1f807>\\r\\nWARC-IP-Address: 54.89.37.55\\r\\nWARC-Target-URI: http://www.cit.nih.gov/robots.txt\\r\\nWARC-Payload-Digest: sha1:EY6RM7AWLMSJR77DD35456OSZPRNQIZK\\r\\nWARC-Block-Digest: sha1:R3MAZAOGGLR4NWNTMZJGTAA3XJUHQQBJ\\r\\nWARC-Identified-Payload-Type: text/html\\r\\n\\r\\nHTTP/1.1 301 Moved Permanently\\r\\nDate: Sat, 18 Nov 2017 21:40:35 GMT\\r\\nContent-Type: text/html; charset=iso-8859-1\\r\\nContent-Length: 242\\r\\nConnection: close\\r\\nServer: Apache\\r\\nLocation: https://www.cit.nih.gov/robots.txt\\r\\n\\r\\n<!DOCTYPE HTML PUBLIC \"-//IETF//DTD HTML 2.0//EN\">\\n<html><head>\\n<title>301 Moved Permanently</title>\\n</head><body>\\n<h1>Moved Permanently</h1>\\n<p>The document has moved <a href=\"https://www.cit.nih.gov/robots.txt\">here</a>.</p>\\n</body></html>\\n\\r\\n\\r\\n'"
      ]
     },
     "execution_count": 38,
     "metadata": {},
     "output_type": "execute_result"
    }
   ],
   "source": [
    "from io import BytesIO\n",
    "import gzip\n",
    "\n",
    "warc_excerpt = BytesIO(compressed_data)\n",
    "warc_reader = gzip.GzipFile(fileobj=warc_excerpt, mode='r')\n",
    "warc_data = warc_reader.read().decode('utf-8')\n",
    "warc_data"
   ]
  },
  {
   "cell_type": "code",
   "execution_count": 40,
   "metadata": {},
   "outputs": [
    {
     "data": {
      "text/plain": [
       "'WARC/1.0\\r\\nWARC-Type: response\\r\\nWARC-Date: 2017-11-18T21:40:35Z\\r\\nWARC-Record-ID: <urn:uuid:449d94ca-581f-44dc-9a37-c6d898595716>\\r\\nContent-Length: 460\\r\\nContent-Type: application/http; msgtype=response\\r\\nWARC-Warcinfo-ID: <urn:uuid:cc6be948-2f50-46b9-bf61-3cd13531991c>\\r\\nWARC-Concurrent-To: <urn:uuid:db34afe1-1607-477f-8a6b-82a9b2f1f807>\\r\\nWARC-IP-Address: 54.89.37.55\\r\\nWARC-Target-URI: http://www.cit.nih.gov/robots.txt\\r\\nWARC-Payload-Digest: sha1:EY6RM7AWLMSJR77DD35456OSZPRNQIZK\\r\\nWARC-Block-Digest: sha1:R3MAZAOGGLR4NWNTMZJGTAA3XJUHQQBJ\\r\\nWARC-Identified-Payload-Type: text/html'"
      ]
     },
     "execution_count": 40,
     "metadata": {},
     "output_type": "execute_result"
    }
   ],
   "source": [
    "warc, headers, response = warc_data.strip().split('\\r\\n\\r\\n', 2)\n",
    "warc"
   ]
  },
  {
   "cell_type": "code",
   "execution_count": 41,
   "metadata": {},
   "outputs": [
    {
     "data": {
      "text/plain": [
       "'HTTP/1.1 301 Moved Permanently\\r\\nDate: Sat, 18 Nov 2017 21:40:35 GMT\\r\\nContent-Type: text/html; charset=iso-8859-1\\r\\nContent-Length: 242\\r\\nConnection: close\\r\\nServer: Apache\\r\\nLocation: https://www.cit.nih.gov/robots.txt'"
      ]
     },
     "execution_count": 41,
     "metadata": {},
     "output_type": "execute_result"
    }
   ],
   "source": [
    "headers"
   ]
  },
  {
   "cell_type": "code",
   "execution_count": 42,
   "metadata": {},
   "outputs": [
    {
     "data": {
      "text/plain": [
       "'<!DOCTYPE HTML PUBLIC \"-//IETF//DTD HTML 2.0//EN\">\\n<html><head>\\n<title>301 Moved Permanently</title>\\n</head><body>\\n<h1>Moved Permanently</h1>\\n<p>The document has moved <a href=\"https://www.cit.nih.gov/robots.txt\">here</a>.</p>\\n</body></html>'"
      ]
     },
     "execution_count": 42,
     "metadata": {},
     "output_type": "execute_result"
    }
   ],
   "source": [
    "response"
   ]
  },
  {
   "cell_type": "markdown",
   "metadata": {},
   "source": [
    "### Not without work\n",
    "\n",
    "Although we've clearly decoded  this record, it is clearly not without work.  This particular record is a dud, and we have to assume that the common crawl indexed the other.  Maybe we will store in DynamoDB graph triples to allow us to see what links to from what."
   ]
  }
 ],
 "metadata": {
  "kernelspec": {
   "display_name": "Python 3",
   "language": "python",
   "name": "python3"
  },
  "language_info": {
   "codemirror_mode": {
    "name": "ipython",
    "version": 3
   },
   "file_extension": ".py",
   "mimetype": "text/x-python",
   "name": "python",
   "nbconvert_exporter": "python",
   "pygments_lexer": "ipython3",
   "version": "3.5.1"
  }
 },
 "nbformat": 4,
 "nbformat_minor": 2
}
